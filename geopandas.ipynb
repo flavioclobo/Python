{
 "cells": [
  {
   "cell_type": "code",
   "execution_count": null,
   "metadata": {},
   "outputs": [],
   "source": [
    "import pandas as pd\n",
    "from geopandas.tools import geocode\n",
    "from geopandas.tools import reverse_geocode\n",
    "from shapely.geometry import Point"
   ]
  },
  {
   "cell_type": "code",
   "execution_count": null,
   "metadata": {},
   "outputs": [],
   "source": [
    "providers = ['arcgis', 'banfrance', 'databc', 'nominatim']\n",
    "location = geocode('Av. Paulista, 119 - Bela Vista, São Paulo - SP, 01311-903', provider=providers[0], user_agent='myGeoCoder')\n",
    "location"
   ]
  },
  {
   "cell_type": "code",
   "execution_count": null,
   "metadata": {},
   "outputs": [],
   "source": [
    "print(type(location))\n",
    "print(location.address)\n",
    "print(location.geometry)\n",
    "print(location.get_coordinates().x)\n",
    "print(location.get_coordinates().y)"
   ]
  },
  {
   "cell_type": "code",
   "execution_count": null,
   "metadata": {},
   "outputs": [],
   "source": [
    "reverse = reverse_geocode(Point(-46.64546, -23.57057), provider=providers[0])\n",
    "reverse"
   ]
  },
  {
   "cell_type": "code",
   "execution_count": null,
   "metadata": {},
   "outputs": [],
   "source": [
    "print(type(reverse))\n",
    "print(reverse.address)\n",
    "print(reverse.geometry)\n",
    "print(reverse.get_coordinates().x)\n",
    "print(reverse.get_coordinates().y)"
   ]
  },
  {
   "cell_type": "code",
   "execution_count": null,
   "metadata": {},
   "outputs": [],
   "source": [
    "df = pd.DataFrame({'Descrição':['SESC Avenida Paulista', 'Casa das Rosas', 'Japan House São Paulo', 'Itaú Cultural'],\n",
    "                   'Endereço':['Av. Paulista, 119 - Bela Vista, São Paulo - SP, 01311-903', 'Av. Paulista, 37 - Bela Vista, São Paulo - SP, 01311-000', 'Av. Paulista, 52 - Bela Vista, São Paulo - SP, 01310-900', 'Av. Paulista, 149 - Bela Vista, São Paulo - SP, 01311-000']})\n",
    "df"
   ]
  },
  {
   "cell_type": "code",
   "execution_count": null,
   "metadata": {},
   "outputs": [],
   "source": [
    "df['Point'] = geocode(df['Endereço'], provider=providers[0], user_agent='myGeoCoder')['geometry']\n",
    "df"
   ]
  },
  {
   "cell_type": "code",
   "execution_count": null,
   "metadata": {},
   "outputs": [],
   "source": [
    "df['Longitude'] = df['Point'].apply(lambda x: x.x)\n",
    "df['Latitude'] = df['Point'].apply(lambda x: x.y)\n",
    "df"
   ]
  },
  {
   "cell_type": "code",
   "execution_count": null,
   "metadata": {},
   "outputs": [],
   "source": [
    "df = pd.DataFrame({\n",
    "    'Descrição':['SESC Avenida Paulista', 'Casa das Rosas', 'Japan House São Paulo', 'Itaú Cultural'],\n",
    "    'Latitude':['-23.570569', '-23.571287', '-23.570591', '-23.56951'],\n",
    "    'Longitude':['-46.645460', '-46.645466', '-46.644805', '-46.64612']})\n",
    "df"
   ]
  },
  {
   "cell_type": "code",
   "execution_count": null,
   "metadata": {},
   "outputs": [],
   "source": [
    "df['Point'] = df.apply(lambda x: Point(x['Longitude'], x['Latitude']), axis=1)\n",
    "df"
   ]
  },
  {
   "cell_type": "code",
   "execution_count": null,
   "metadata": {},
   "outputs": [],
   "source": [
    "df['Endereço'] = reverse_geocode(df['Point'], provider=providers[0])['address']\n",
    "df"
   ]
  },
  {
   "cell_type": "code",
   "execution_count": null,
   "metadata": {},
   "outputs": [],
   "source": [
    "df['Endereço'] = df.apply(lambda x: reverse_geocode(Point(x['Longitude'], x['Latitude']), provider=providers[0]).address, axis=1)\n",
    "df"
   ]
  }
 ],
 "metadata": {
  "kernelspec": {
   "display_name": "venv",
   "language": "python",
   "name": "python3"
  },
  "language_info": {
   "codemirror_mode": {
    "name": "ipython",
    "version": 3
   },
   "file_extension": ".py",
   "mimetype": "text/x-python",
   "name": "python",
   "nbconvert_exporter": "python",
   "pygments_lexer": "ipython3",
   "version": "3.12.5"
  }
 },
 "nbformat": 4,
 "nbformat_minor": 2
}
