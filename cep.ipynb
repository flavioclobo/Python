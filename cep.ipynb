{
 "cells": [
  {
   "cell_type": "code",
   "execution_count": 1,
   "metadata": {},
   "outputs": [],
   "source": [
    "import requests\n",
    "import re"
   ]
  },
  {
   "cell_type": "code",
   "execution_count": 2,
   "metadata": {},
   "outputs": [],
   "source": [
    "def detalhes_cep(cep: str) -> dict:\n",
    "    if len(cep) == 8:\n",
    "        url = f'https://viacep.com.br/ws/{cep}/json'\n",
    "        response = dict(requests.get(url=url).json())\n",
    "        return response\n",
    "    else:\n",
    "        return f'O cep {cep} não é válido!'"
   ]
  },
  {
   "cell_type": "code",
   "execution_count": null,
   "metadata": {},
   "outputs": [],
   "source": [
    "cep = input('Digite o número do CEP')\n",
    "cep = \"\".join(re.findall(r'\\d+', cep)) \n",
    "cep"
   ]
  },
  {
   "cell_type": "code",
   "execution_count": null,
   "metadata": {},
   "outputs": [],
   "source": [
    "resultado = detalhes_cep(cep=cep)\n",
    "resultado"
   ]
  },
  {
   "cell_type": "code",
   "execution_count": null,
   "metadata": {},
   "outputs": [],
   "source": [
    "print(resultado['cep'])\n",
    "print(resultado['logradouro'])\n",
    "print(resultado['bairro'])\n",
    "print(resultado['localidade'])\n",
    "print(resultado['uf'])\n",
    "print(resultado['ibge'])\n",
    "print(type(resultado))"
   ]
  },
  {
   "cell_type": "code",
   "execution_count": 10,
   "metadata": {},
   "outputs": [],
   "source": [
    "def busca_cep(uf: str, cidade: str, logradouro: str) -> dict:\n",
    "    if all([uf, cidade, logradouro]):\n",
    "        url = f'https://viacep.com.br/ws/{uf}/{cidade}/{logradouro}/json/'\n",
    "        response = dict(requests.get(url=url).json()[0])\n",
    "        return response\n",
    "    else:\n",
    "        return f'Não foi possível encontrar o CEP para {logradouro}, {cidade}, {uf}!'"
   ]
  },
  {
   "cell_type": "code",
   "execution_count": null,
   "metadata": {},
   "outputs": [],
   "source": [
    "uf = input('Digite a UF: ')\n",
    "cidade = input('Digite a cidade: ')\n",
    "logradouro = input('Digite o logradouro: ')\n",
    "resultado = busca_cep(uf=uf, cidade=cidade, logradouro=logradouro)\n",
    "resultado"
   ]
  },
  {
   "cell_type": "code",
   "execution_count": null,
   "metadata": {},
   "outputs": [],
   "source": [
    "print(resultado['cep'])\n",
    "print(resultado['logradouro'])\n",
    "print(resultado['bairro'])\n",
    "print(resultado['localidade'])\n",
    "print(resultado['uf'])\n",
    "print(resultado['ibge'])\n",
    "print(type(resultado))"
   ]
  }
 ],
 "metadata": {
  "kernelspec": {
   "display_name": "venv",
   "language": "python",
   "name": "python3"
  },
  "language_info": {
   "codemirror_mode": {
    "name": "ipython",
    "version": 3
   },
   "file_extension": ".py",
   "mimetype": "text/x-python",
   "name": "python",
   "nbconvert_exporter": "python",
   "pygments_lexer": "ipython3",
   "version": "3.12.5"
  }
 },
 "nbformat": 4,
 "nbformat_minor": 2
}
