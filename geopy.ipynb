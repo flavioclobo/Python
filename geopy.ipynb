{
 "cells": [
  {
   "cell_type": "code",
   "execution_count": null,
   "metadata": {},
   "outputs": [],
   "source": [
    "import pandas as pd\n",
    "from geopy.geocoders import ArcGIS\n",
    "from geopy.extra.rate_limiter import RateLimiter"
   ]
  },
  {
   "cell_type": "code",
   "execution_count": null,
   "metadata": {},
   "outputs": [],
   "source": [
    "geolocator = ArcGIS(user_agent='myGeoCoder')\n",
    "geocode = RateLimiter(geolocator.geocode, min_delay_seconds=1)\n",
    "location = geocode('Av. Paulista, 119 - Bela Vista, São Paulo - SP, 01311-903')\n",
    "location"
   ]
  },
  {
   "cell_type": "code",
   "execution_count": null,
   "metadata": {},
   "outputs": [],
   "source": [
    "print(type(location))\n",
    "print(location.address)\n",
    "print(location.latitude)\n",
    "print(location.longitude)\n",
    "print(location.raw)"
   ]
  },
  {
   "cell_type": "code",
   "execution_count": null,
   "metadata": {},
   "outputs": [],
   "source": [
    "reverse_geocode = RateLimiter(geolocator.reverse, min_delay_seconds=1)\n",
    "reverse_location = reverse_geocode('-23.570569289648, -46.645459815229')\n",
    "reverse_location"
   ]
  },
  {
   "cell_type": "code",
   "execution_count": null,
   "metadata": {},
   "outputs": [],
   "source": [
    "print(reverse_location.address)\n",
    "print(reverse_location.altitude)\n",
    "print(reverse_location.latitude)\n",
    "print(reverse_location.longitude)\n",
    "print(reverse_location.point)\n",
    "print(reverse_location.raw)"
   ]
  },
  {
   "cell_type": "code",
   "execution_count": null,
   "metadata": {},
   "outputs": [],
   "source": [
    "df = pd.DataFrame({'Descrição':['SESC Avenida Paulista', 'Casa das Rosas', 'Japan House São Paulo', 'Itaú Cultural'],\n",
    "                   'Endereço':['Av. Paulista, 119 - Bela Vista, São Paulo - SP, 01311-903', 'Av. Paulista, 37 - Bela Vista, São Paulo - SP, 01311-000', 'Av. Paulista, 52 - Bela Vista, São Paulo - SP, 01310-900', 'Av. Paulista, 149 - Bela Vista, São Paulo - SP, 01311-000']})\n",
    "df"
   ]
  },
  {
   "cell_type": "code",
   "execution_count": null,
   "metadata": {},
   "outputs": [],
   "source": [
    "df['Location'] = df['Endereço'].apply(geocode)\n",
    "df"
   ]
  },
  {
   "cell_type": "code",
   "execution_count": null,
   "metadata": {},
   "outputs": [],
   "source": [
    "df['Longitude'] = df['Location'].apply(lambda x: x.longitude)\n",
    "df['Latitude'] = df['Location'].apply(lambda x: x.latitude)\n",
    "df"
   ]
  },
  {
   "cell_type": "code",
   "execution_count": null,
   "metadata": {},
   "outputs": [],
   "source": [
    "df = pd.DataFrame({\n",
    "    'Descrição':['SESC Avenida Paulista', 'Casa das Rosas', 'Japan House São Paulo', 'Itaú Cultural'],\n",
    "    'Latitude':['-23.570569', '-23.571287', '-23.570591', '-23.56951'],\n",
    "    'Longitude':['-46.645460', '-46.645466', '-46.644805', '-46.64612']})\n",
    "df"
   ]
  },
  {
   "cell_type": "code",
   "execution_count": null,
   "metadata": {},
   "outputs": [],
   "source": [
    "df['Endereço'] = df.apply(lambda row: reverse_geocode((row['Latitude'], row['Longitude'])).address, axis=1)\n",
    "df"
   ]
  }
 ],
 "metadata": {
  "kernelspec": {
   "display_name": "venv",
   "language": "python",
   "name": "python3"
  },
  "language_info": {
   "codemirror_mode": {
    "name": "ipython",
    "version": 3
   },
   "file_extension": ".py",
   "mimetype": "text/x-python",
   "name": "python",
   "nbconvert_exporter": "python",
   "pygments_lexer": "ipython3",
   "version": "3.12.5"
  }
 },
 "nbformat": 4,
 "nbformat_minor": 2
}
