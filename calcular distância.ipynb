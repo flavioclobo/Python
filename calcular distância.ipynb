{
 "cells": [
  {
   "cell_type": "code",
   "execution_count": 1,
   "metadata": {},
   "outputs": [],
   "source": [
    "from geopy.distance import geodesic\n",
    "from itertools import permutations\n",
    "import pandas as pd"
   ]
  },
  {
   "cell_type": "code",
   "execution_count": 2,
   "metadata": {},
   "outputs": [],
   "source": [
    "def calculate_distance(coord1: float, coord2: float) -> float:\n",
    "    \"\"\"\n",
    "    Função para calcular a distância entre dois pontos\n",
    "    \"\"\"\n",
    "    return geodesic(coord1, coord2).kilometers"
   ]
  },
  {
   "cell_type": "code",
   "execution_count": 3,
   "metadata": {},
   "outputs": [],
   "source": [
    "def find_nearby_places(current_location: tuple, df, radius_km: float):\n",
    "    nearby_places = []\n",
    "    for _, row in df.iterrows():\n",
    "        place_location = (row['Latitude'], row['Longitude'])\n",
    "        distance = geodesic(current_location, place_location).kilometers\n",
    "\n",
    "        if distance <= radius_km:\n",
    "            nearby_places.append({\n",
    "                'Descrição': row['Descrição'],\n",
    "                'Distância em km': round(distance, 2)\n",
    "            })\n",
    "    return nearby_places"
   ]
  },
  {
   "cell_type": "code",
   "execution_count": 4,
   "metadata": {},
   "outputs": [],
   "source": [
    "def calculate_shortest_route(points: list, back_to_starting_point: bool = False):\n",
    "    \"\"\"\n",
    "    Calcula a rota mais curta entre uma lista de pontos usando a distância geodésica.\n",
    "    \n",
    "    :param points: Lista de tuplas (latitude, longitude)\n",
    "    :back_to_starting_point: booleano para adicionar a distância de volta ao ponto inicial\n",
    "    :return: Tupla contendo a ordem dos pontos na rota mais curta e a distância total\n",
    "    \"\"\"\n",
    "    if len(points) < 2:\n",
    "        raise ValueError('A lista de pontos deve conter pelo menos dois pontos.')\n",
    "\n",
    "    # somente pontos exclusivos, sem duplicidade\n",
    "    points = list(set(points))\n",
    "\n",
    "    shortest_distance = float('inf')\n",
    "    shortest_route = None\n",
    "    \n",
    "    # Gera todas as permutações (variações) possíveis dos pontos\n",
    "    for route in permutations(points):\n",
    "        total_distance = 0\n",
    "        \n",
    "        # Calcula a distância total da rota atual\n",
    "        for i in range(len(route) - 1):\n",
    "            total_distance += geodesic(route[i], route[i+1]).kilometers\n",
    "        \n",
    "        # Adiciona a distância de volta ao ponto inicial\n",
    "        if back_to_starting_point:\n",
    "            total_distance += geodesic(route[-1], route[0]).kilometers\n",
    "        \n",
    "        # Atualiza a rota mais curta se encontrarmos uma melhor\n",
    "        if total_distance < shortest_distance:\n",
    "            shortest_distance = total_distance\n",
    "            shortest_route = route\n",
    "    \n",
    "    return shortest_route, shortest_distance"
   ]
  },
  {
   "cell_type": "code",
   "execution_count": 5,
   "metadata": {},
   "outputs": [
    {
     "data": {
      "text/html": [
       "<div>\n",
       "<style scoped>\n",
       "    .dataframe tbody tr th:only-of-type {\n",
       "        vertical-align: middle;\n",
       "    }\n",
       "\n",
       "    .dataframe tbody tr th {\n",
       "        vertical-align: top;\n",
       "    }\n",
       "\n",
       "    .dataframe thead th {\n",
       "        text-align: right;\n",
       "    }\n",
       "</style>\n",
       "<table border=\"1\" class=\"dataframe\">\n",
       "  <thead>\n",
       "    <tr style=\"text-align: right;\">\n",
       "      <th></th>\n",
       "      <th>Descrição</th>\n",
       "      <th>Endereço</th>\n",
       "      <th>Latitude</th>\n",
       "      <th>Longitude</th>\n",
       "    </tr>\n",
       "  </thead>\n",
       "  <tbody>\n",
       "    <tr>\n",
       "      <th>0</th>\n",
       "      <td>Casa das Rosas</td>\n",
       "      <td>Av. Paulista, 37 - Bela Vista, São Paulo - SP,...</td>\n",
       "      <td>-23.571287</td>\n",
       "      <td>-46.645466</td>\n",
       "    </tr>\n",
       "    <tr>\n",
       "      <th>1</th>\n",
       "      <td>Japan House São Paulo</td>\n",
       "      <td>Av. Paulista, 52 - Bela Vista, São Paulo - SP,...</td>\n",
       "      <td>-23.570591</td>\n",
       "      <td>-46.644805</td>\n",
       "    </tr>\n",
       "    <tr>\n",
       "      <th>2</th>\n",
       "      <td>SESC Avenida Paulista</td>\n",
       "      <td>Av. Paulista, 119 - Bela Vista, São Paulo - SP...</td>\n",
       "      <td>-23.570569</td>\n",
       "      <td>-46.645460</td>\n",
       "    </tr>\n",
       "    <tr>\n",
       "      <th>3</th>\n",
       "      <td>Itaú Cultural</td>\n",
       "      <td>Av. Paulista, 149 - Bela Vista, São Paulo - SP...</td>\n",
       "      <td>-23.56951</td>\n",
       "      <td>-46.64612</td>\n",
       "    </tr>\n",
       "    <tr>\n",
       "      <th>4</th>\n",
       "      <td>Gazeta</td>\n",
       "      <td>Av. Paulista, 900 - Bela Vista, São Paulo - SP...</td>\n",
       "      <td>-23.565415</td>\n",
       "      <td>-46.651396</td>\n",
       "    </tr>\n",
       "  </tbody>\n",
       "</table>\n",
       "</div>"
      ],
      "text/plain": [
       "               Descrição                                           Endereço  \\\n",
       "0         Casa das Rosas  Av. Paulista, 37 - Bela Vista, São Paulo - SP,...   \n",
       "1  Japan House São Paulo  Av. Paulista, 52 - Bela Vista, São Paulo - SP,...   \n",
       "2  SESC Avenida Paulista  Av. Paulista, 119 - Bela Vista, São Paulo - SP...   \n",
       "3          Itaú Cultural  Av. Paulista, 149 - Bela Vista, São Paulo - SP...   \n",
       "4                 Gazeta  Av. Paulista, 900 - Bela Vista, São Paulo - SP...   \n",
       "\n",
       "     Latitude   Longitude  \n",
       "0  -23.571287  -46.645466  \n",
       "1  -23.570591  -46.644805  \n",
       "2  -23.570569  -46.645460  \n",
       "3   -23.56951   -46.64612  \n",
       "4  -23.565415  -46.651396  "
      ]
     },
     "execution_count": 5,
     "metadata": {},
     "output_type": "execute_result"
    }
   ],
   "source": [
    "df = pd.DataFrame({\n",
    "    'Descrição':['Casa das Rosas', 'Japan House São Paulo', 'SESC Avenida Paulista', 'Itaú Cultural', 'Gazeta'],\n",
    "    'Endereço':['Av. Paulista, 37 - Bela Vista, São Paulo - SP, 01311-000', 'Av. Paulista, 52 - Bela Vista, São Paulo - SP, 01310-900', 'Av. Paulista, 119 - Bela Vista, São Paulo - SP, 01311-903', 'Av. Paulista, 149 - Bela Vista, São Paulo - SP, 01311-000', 'Av. Paulista, 900 - Bela Vista, São Paulo - SP, 01310-100'],\n",
    "    'Latitude':['-23.571287', '-23.570591', '-23.570569', '-23.56951', '-23.565415'],\n",
    "    'Longitude':['-46.645466', '-46.644805', '-46.645460', '-46.64612', '-46.651396']})\n",
    "df"
   ]
  },
  {
   "cell_type": "code",
   "execution_count": 7,
   "metadata": {},
   "outputs": [
    {
     "name": "stdout",
     "output_type": "stream",
     "text": [
      "Lugares com menos de 0.7 km de distância da localização atual:\n",
      "- Casa das Rosas, 0.63 km de distância\n",
      "- Japan House São Paulo, 0.53 km de distância\n",
      "- SESC Avenida Paulista, 0.6 km de distância\n",
      "- Itaú Cultural, 0.64 km de distância\n"
     ]
    }
   ],
   "source": [
    "current_location = (-23.568869, -46.639925) # Metrô Vergueiro\n",
    "radius_km = 0.7\n",
    "nearby_places = find_nearby_places(current_location, df, radius_km)\n",
    "\n",
    "if nearby_places:\n",
    "    print(f'Lugares com menos de {radius_km} km de distância da localização atual:')\n",
    "    for place in nearby_places:\n",
    "        print(f'- {place['Descrição']}, {place['Distância em km']} km de distância')\n",
    "else:\n",
    "    print(f'Não há lugares próximos em volta de {radius_km} km da localização.')"
   ]
  },
  {
   "cell_type": "code",
   "execution_count": 9,
   "metadata": {},
   "outputs": [
    {
     "data": {
      "text/plain": [
       "1.0087516626409072"
      ]
     },
     "execution_count": 9,
     "metadata": {},
     "output_type": "execute_result"
    }
   ],
   "source": [
    "pontos = list(zip(df['Latitude'], df['Longitude']))\n",
    "distancia_total = 0\n",
    "for i in range(len(pontos) - 1):\n",
    "    distancia_total += geodesic(pontos[i], pontos[i+1]).km\n",
    "distancia_total"
   ]
  },
  {
   "cell_type": "code",
   "execution_count": 10,
   "metadata": {},
   "outputs": [
    {
     "name": "stdout",
     "output_type": "stream",
     "text": [
      "Rota mais curta: (('-23.571287', '-46.645466'), ('-23.570591', '-46.644805'), ('-23.570569', '-46.645460'), ('-23.56951', '-46.64612'), ('-23.565415', '-46.651396'))\n",
      "Distância total: 1.01 km\n"
     ]
    }
   ],
   "source": [
    "shortest_route, shortest_distance = calculate_shortest_route(points=pontos)\n",
    "print(f\"Rota mais curta: {shortest_route}\")\n",
    "print(f\"Distância total: {shortest_distance:.2f} km\")"
   ]
  },
  {
   "cell_type": "code",
   "execution_count": 11,
   "metadata": {},
   "outputs": [
    {
     "data": {
      "text/plain": [
       "[('-23.565415', '-46.651396'),\n",
       " ('-23.56951', '-46.64612'),\n",
       " ('-23.570569', '-46.645460'),\n",
       " ('-23.570591', '-46.644805'),\n",
       " ('-23.571287', '-46.645466')]"
      ]
     },
     "execution_count": 11,
     "metadata": {},
     "output_type": "execute_result"
    }
   ],
   "source": [
    "sorted(pontos, key=lambda x: calculate_distance((-23.556175, -46.662075), x))"
   ]
  }
 ],
 "metadata": {
  "kernelspec": {
   "display_name": "venv",
   "language": "python",
   "name": "python3"
  },
  "language_info": {
   "codemirror_mode": {
    "name": "ipython",
    "version": 3
   },
   "file_extension": ".py",
   "mimetype": "text/x-python",
   "name": "python",
   "nbconvert_exporter": "python",
   "pygments_lexer": "ipython3",
   "version": "3.12.6"
  }
 },
 "nbformat": 4,
 "nbformat_minor": 2
}
